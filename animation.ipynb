{
 "cells": [
  {
   "cell_type": "code",
   "execution_count": 11,
   "metadata": {},
   "outputs": [],
   "source": [
    "import matplotlib\n",
    "import matplotlib.pyplot as plt\n",
    "from matplotlib.animation import PillowWriter\n",
    "import numpy as np"
   ]
  },
  {
   "cell_type": "code",
   "execution_count": 12,
   "metadata": {},
   "outputs": [],
   "source": [
    "class Cycle():\n",
    "    def __init__(self):\n",
    "        self.x = []\n",
    "        self.y = []\n",
    "    \n",
    "    def append_x(self, x: float):\n",
    "        self.x.append(x)\n",
    "        \n",
    "    def append_y(self, y: float):\n",
    "        self.y.append(y)"
   ]
  },
  {
   "cell_type": "code",
   "execution_count": 13,
   "metadata": {},
   "outputs": [
    {
     "data": {
      "text/plain": [
       "10000"
      ]
     },
     "execution_count": 13,
     "metadata": {},
     "output_type": "execute_result"
    }
   ],
   "source": [
    "n_bodies: int\n",
    "n_cycles: int\n",
    "with open('input.txt') as inp:\n",
    "    first_line = inp.readline().split()\n",
    "    n_bodies = int(first_line[1])\n",
    "    n_cycles = int(first_line[2])\n",
    "    \n",
    "n_cycles"
   ]
  },
  {
   "cell_type": "code",
   "execution_count": 14,
   "metadata": {},
   "outputs": [],
   "source": [
    "cycles = [Cycle() for _ in range(n_cycles)]"
   ]
  },
  {
   "cell_type": "code",
   "execution_count": 15,
   "metadata": {},
   "outputs": [],
   "source": [
    "with open('output.txt') as src:\n",
    "    for i in range(n_cycles):\n",
    "        src.readline()\n",
    "        src.readline()\n",
    "        for _ in range(n_bodies):\n",
    "            line = src.readline().split()\n",
    "            cycles[i].append_x(float(line[3]))\n",
    "            cycles[i].append_y(float(line[4]))"
   ]
  },
  {
   "cell_type": "code",
   "execution_count": 16,
   "metadata": {},
   "outputs": [
    {
     "data": {
      "text/plain": [
       "array([-150, -100,  -50,    0,   50,  100,  150])"
      ]
     },
     "execution_count": 16,
     "metadata": {},
     "output_type": "execute_result"
    }
   ],
   "source": [
    "np.arange(-150, 151, 50)"
   ]
  },
  {
   "cell_type": "code",
   "execution_count": 20,
   "metadata": {},
   "outputs": [
    {
     "data": {
      "image/png": "[encoded data removed]",
      "text/plain": [
       "<Figure size 640x480 with 1 Axes>"
      ]
     },
     "metadata": {},
     "output_type": "display_data"
    }
   ],
   "source": [
    "import matplotlib.animation as animation\n",
    "\n",
    "fig, ax = plt.subplots()\n",
    "plt.xlim(-5, 5)\n",
    "plt.ylim(-5, 5)\n",
    "x = cycles[0].x\n",
    "y = cycles[0].y\n",
    "scatter = ax.scatter(x, y, s=10)\n",
    "\n",
    "def update(i):\n",
    "    x = cycles[i].x\n",
    "    y = cycles[i].y\n",
    "    scatter.set_offsets(np.column_stack((x, y)))\n",
    "    return scatter,\n",
    "\n",
    "ani = animation.FuncAnimation(fig, update, frames=10000, interval=0.7)\n",
    "ani.save('animation.mp4', writer='ffmpeg')\n"
   ]
  }
 ],
 "metadata": {
  "kernelspec": {
   "display_name": "Python 3",
   "language": "python",
   "name": "python3"
  },
  "language_info": {
   "codemirror_mode": {
    "name": "ipython",
    "version": 3
   },
   "file_extension": ".py",
   "mimetype": "text/x-python",
   "name": "python",
   "nbconvert_exporter": "python",
   "pygments_lexer": "ipython3",
   "version": "3.8.10"
  }
 },
 "nbformat": 4,
 "nbformat_minor": 2
}
