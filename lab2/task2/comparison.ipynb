{
 "cells": [
  {
   "cell_type": "code",
   "execution_count": 44,
   "metadata": {},
   "outputs": [],
   "source": [
    "import pandas as pd\n",
    "import numpy as np"
   ]
  },
  {
   "cell_type": "code",
   "execution_count": 45,
   "metadata": {},
   "outputs": [],
   "source": [
    "RUNS_PER_THREAD = 5\n",
    "sizes = [600, 1200, 2700]\n",
    "col_names = ['Serial', 'Cannon 4 threads', 'Cannon 9 threads']"
   ]
  },
  {
   "cell_type": "code",
   "execution_count": 46,
   "metadata": {},
   "outputs": [],
   "source": [
    "df = pd.DataFrame(data={'Matrix size': sizes})"
   ]
  },
  {
   "cell_type": "code",
   "execution_count": 47,
   "metadata": {},
   "outputs": [],
   "source": [
    "with open('times.txt') as f:\n",
    "    for i in range(len(sizes)):\n",
    "        f.readline()\n",
    "        for col_name in col_names:\n",
    "            f.readline()\n",
    "            mean_time = 0\n",
    "            for _ in range(RUNS_PER_THREAD):\n",
    "                mean_time += float(f.readline())\n",
    "            mean_time /= RUNS_PER_THREAD\n",
    "            df.at[i, col_name] = mean_time\n",
    "        "
   ]
  },
  {
   "cell_type": "code",
   "execution_count": 48,
   "metadata": {},
   "outputs": [],
   "source": [
    "speedup_df = df.copy()\n",
    "speedup_df['Cannon 4 threads'] = speedup_df['Serial'] / speedup_df['Cannon 4 threads']\n",
    "speedup_df['Cannon 9 threads'] = speedup_df['Serial'] / speedup_df['Cannon 9 threads']\n",
    "speedup_df['Serial'] = np.ones(len(speedup_df))"
   ]
  },
  {
   "cell_type": "markdown",
   "metadata": {},
   "source": [
    "### All calculation were done on a 6-core processor, that's why max threads amount is 9 (it was used with mpiexec --oversubscribe key)"
   ]
  },
  {
   "cell_type": "markdown",
   "metadata": {},
   "source": [
    "# Execution time (in seconds):"
   ]
  },
  {
   "cell_type": "code",
   "execution_count": 49,
   "metadata": {},
   "outputs": [
    {
     "data": {
      "text/html": [
       "<div>\n",
       "<style scoped>\n",
       "    .dataframe tbody tr th:only-of-type {\n",
       "        vertical-align: middle;\n",
       "    }\n",
       "\n",
       "    .dataframe tbody tr th {\n",
       "        vertical-align: top;\n",
       "    }\n",
       "\n",
       "    .dataframe thead th {\n",
       "        text-align: right;\n",
       "    }\n",
       "</style>\n",
       "<table border=\"1\" class=\"dataframe\">\n",
       "  <thead>\n",
       "    <tr style=\"text-align: right;\">\n",
       "      <th></th>\n",
       "      <th>Matrix size</th>\n",
       "      <th>Serial</th>\n",
       "      <th>Cannon 4 threads</th>\n",
       "      <th>Cannon 9 threads</th>\n",
       "    </tr>\n",
       "  </thead>\n",
       "  <tbody>\n",
       "    <tr>\n",
       "      <th>0</th>\n",
       "      <td>600</td>\n",
       "      <td>0.762042</td>\n",
       "      <td>0.098408</td>\n",
       "      <td>0.070838</td>\n",
       "    </tr>\n",
       "    <tr>\n",
       "      <th>1</th>\n",
       "      <td>1200</td>\n",
       "      <td>6.175528</td>\n",
       "      <td>0.682868</td>\n",
       "      <td>0.523504</td>\n",
       "    </tr>\n",
       "    <tr>\n",
       "      <th>2</th>\n",
       "      <td>2700</td>\n",
       "      <td>149.513197</td>\n",
       "      <td>12.335129</td>\n",
       "      <td>8.263021</td>\n",
       "    </tr>\n",
       "  </tbody>\n",
       "</table>\n",
       "</div>"
      ],
      "text/plain": [
       "   Matrix size      Serial  Cannon 4 threads  Cannon 9 threads\n",
       "0          600    0.762042          0.098408          0.070838\n",
       "1         1200    6.175528          0.682868          0.523504\n",
       "2         2700  149.513197         12.335129          8.263021"
      ]
     },
     "execution_count": 49,
     "metadata": {},
     "output_type": "execute_result"
    }
   ],
   "source": [
    "df"
   ]
  },
  {
   "cell_type": "markdown",
   "metadata": {},
   "source": [
    "# Speedup:"
   ]
  },
  {
   "cell_type": "code",
   "execution_count": 50,
   "metadata": {},
   "outputs": [
    {
     "data": {
      "text/html": [
       "<div>\n",
       "<style scoped>\n",
       "    .dataframe tbody tr th:only-of-type {\n",
       "        vertical-align: middle;\n",
       "    }\n",
       "\n",
       "    .dataframe tbody tr th {\n",
       "        vertical-align: top;\n",
       "    }\n",
       "\n",
       "    .dataframe thead th {\n",
       "        text-align: right;\n",
       "    }\n",
       "</style>\n",
       "<table border=\"1\" class=\"dataframe\">\n",
       "  <thead>\n",
       "    <tr style=\"text-align: right;\">\n",
       "      <th></th>\n",
       "      <th>Matrix size</th>\n",
       "      <th>Serial</th>\n",
       "      <th>Cannon 4 threads</th>\n",
       "      <th>Cannon 9 threads</th>\n",
       "    </tr>\n",
       "  </thead>\n",
       "  <tbody>\n",
       "    <tr>\n",
       "      <th>0</th>\n",
       "      <td>600</td>\n",
       "      <td>1.0</td>\n",
       "      <td>7.743680</td>\n",
       "      <td>10.757526</td>\n",
       "    </tr>\n",
       "    <tr>\n",
       "      <th>1</th>\n",
       "      <td>1200</td>\n",
       "      <td>1.0</td>\n",
       "      <td>9.043511</td>\n",
       "      <td>11.796529</td>\n",
       "    </tr>\n",
       "    <tr>\n",
       "      <th>2</th>\n",
       "      <td>2700</td>\n",
       "      <td>1.0</td>\n",
       "      <td>12.120927</td>\n",
       "      <td>18.094254</td>\n",
       "    </tr>\n",
       "  </tbody>\n",
       "</table>\n",
       "</div>"
      ],
      "text/plain": [
       "   Matrix size  Serial  Cannon 4 threads  Cannon 9 threads\n",
       "0          600     1.0          7.743680         10.757526\n",
       "1         1200     1.0          9.043511         11.796529\n",
       "2         2700     1.0         12.120927         18.094254"
      ]
     },
     "execution_count": 50,
     "metadata": {},
     "output_type": "execute_result"
    }
   ],
   "source": [
    "speedup_df"
   ]
  }
 ],
 "metadata": {
  "kernelspec": {
   "display_name": "Python 3",
   "language": "python",
   "name": "python3"
  },
  "language_info": {
   "codemirror_mode": {
    "name": "ipython",
    "version": 3
   },
   "file_extension": ".py",
   "mimetype": "text/x-python",
   "name": "python",
   "nbconvert_exporter": "python",
   "pygments_lexer": "ipython3",
   "version": "3.8.10"
  }
 },
 "nbformat": 4,
 "nbformat_minor": 2
}
